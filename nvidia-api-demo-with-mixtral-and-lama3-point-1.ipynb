{
  "title": "Elastic Supertransformation Platform Demo: Calling nvapi from Elastic Provisioner Transformer",
  "description": "This notebook demonstrates how to use `nvapi` with an elastic provisioner to generate output from a model. We will provide examples using different models.",
  "prerequisites": [
    "Ensure that you have `nvapi` and `eprov` installed and properly configured in your environment."
  ],
  "code_blocks": [
    {
      "description": "Install Elastic Provisioner",
      "language": "python",
      "code": "import subprocess\n\ndef install_eprov():\n    command = 'curl https://api.elasticprovisioner.com/install-eprov | bash'\n    result = subprocess.run(command, shell=True, capture_output=True, text=True)\n    return result.stdout\n\noutput = install_eprov()\nprint(\"Command Output:\\n\", output)"
    },
    {
      "description": "Basic EPT Usage Example",
      "language": "python",
      "code": "import subprocess\n\ndef run_nvapi_command():\n    command = 'echo \"make a rhyme about GPUs\" | eprov ept nvapi'\n    result = subprocess.run(command, shell=True, capture_output=True, text=True)\n    return result.stdout\n\noutput = run_nvapi_command()\nprint(\"Command Output:\\n\", output)"
    },
    {
      "description": "Example with Multiple Models",
      "language": "python",
      "code": "def run_nvapi_with_multiple_models():\n    command = (\n        'echo \"make a rhyme about GPUs\" | eprov ept nvapi::model=mistralai/mixtral-8x22b-instruct-v0.1 nvapi::model=meta/llama-3.1-8b-instruct'\n    )\n    result = subprocess.run(command, shell=True, capture_output=True, text=True)\n    return result.stdout\n\noutput = run_nvapi_with_multiple_models()\nprint(\"Command Output:\\n\", output)"
    }
  ],
  "conclusion": "This notebook provides a basic guide to using `nvapi` with an elastic provisioner, along with examples of specifying different models. Customize the commands and parameters as needed for your specific use case.\n\nThis notebook focuses on:\n- Specifying different models, including both `mixtral` and the default NVIDIA model, in a single call.\n- A section to read and display the content of the uploaded file for additional information."
}
